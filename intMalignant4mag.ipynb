{
 "cells": [
  {
   "cell_type": "code",
   "execution_count": 1,
   "id": "c2e16ab2",
   "metadata": {},
   "outputs": [],
   "source": [
    "from torchvision import transforms\n",
    "import matplotlib.pyplot as plt\n",
    "import torch\n",
    "from torchvision import datasets, transforms\n",
    "from torch.utils.data import Dataset, DataLoader\n",
    "import torchvision.models as models\n",
    "from PIL import Image\n",
    "import albumentations\n",
    "import albumentations.pytorch \n",
    "import cv2\n",
    "import torch.nn as nn\n",
    "import copy\n",
    "from barbar import Bar"
   ]
  },
  {
   "cell_type": "code",
   "execution_count": 2,
   "id": "ace1ad55",
   "metadata": {},
   "outputs": [
    {
     "name": "stdout",
     "output_type": "stream",
     "text": [
      "cuda:0\n"
     ]
    }
   ],
   "source": [
    "device = torch.device(\"cuda:0\" if torch.cuda.is_available() else \"cpu\")\n",
    "print(device)"
   ]
  },
  {
   "cell_type": "code",
   "execution_count": 3,
   "id": "719caf96",
   "metadata": {},
   "outputs": [],
   "source": [
    "if torch.cuda.is_available():\n",
    "    torch.cuda.manual_seed(42)\n",
    "    torch.cuda.manual_seed_all(42)\n",
    "    torch.backends.cudnn.benchmark=True\n",
    "    torch.backends.cudnn.deterministic=False  "
   ]
  },
  {
   "cell_type": "code",
   "execution_count": 4,
   "id": "8a44053d",
   "metadata": {},
   "outputs": [],
   "source": [
    "#train_pure = '/kaggle/input/breast-256/gcn_256/Train_gcn/*'\n",
    "val_pure =  'gcn_256/Val_gcn/*'"
   ]
  },
  {
   "cell_type": "code",
   "execution_count": 5,
   "id": "c70ecf6c",
   "metadata": {},
   "outputs": [
    {
     "data": {
      "text/plain": [
       "1557"
      ]
     },
     "execution_count": 5,
     "metadata": {},
     "output_type": "execute_result"
    }
   ],
   "source": [
    "import glob\n",
    "#train_files = glob.glob(train_pure)\n",
    "val_files = glob.glob(val_pure)\n",
    "len(val_files)#6229"
   ]
  },
  {
   "cell_type": "code",
   "execution_count": 6,
   "id": "f5dae5e2",
   "metadata": {},
   "outputs": [
    {
     "data": {
      "text/plain": [
       "'gcn_256/Val_gcn/SOB_M_PC-15-190EF-200-001.png'"
      ]
     },
     "execution_count": 6,
     "metadata": {},
     "output_type": "execute_result"
    }
   ],
   "source": [
    "val_files[0]"
   ]
  },
  {
   "cell_type": "code",
   "execution_count": 7,
   "id": "77041760",
   "metadata": {},
   "outputs": [
    {
     "data": {
      "text/plain": [
       "'200'"
      ]
     },
     "execution_count": 7,
     "metadata": {},
     "output_type": "execute_result"
    }
   ],
   "source": [
    "x=val_files[0]\n",
    "x.split('_')\n",
    "x.split('-')[-2]"
   ]
  },
  {
   "cell_type": "code",
   "execution_count": 8,
   "id": "a45dd613",
   "metadata": {},
   "outputs": [
    {
     "name": "stdout",
     "output_type": "stream",
     "text": [
      "248 309 274 242\n",
      "1073\n"
     ]
    }
   ],
   "source": [
    "val_M=[]\n",
    "val_40M=[]\n",
    "val_100M=[]\n",
    "val_200M=[]\n",
    "val_400M=[]\n",
    "for i in val_files:\n",
    "    parts=i.split('_')\n",
    "    parts1=i.split('-')\n",
    "    if (parts[-2])== \"M\":\n",
    "        val_M.append(i)\n",
    "        \n",
    "        if (parts1[-2])== \"40\":\n",
    "            val_40M.append(i)\n",
    "        elif (parts1[-2])== \"100\":\n",
    "            val_100M.append(i)\n",
    "        elif (parts1[-2])== \"200\":\n",
    "            val_200M.append(i)\n",
    "        elif (parts1[-2])== \"400\":\n",
    "            val_400M.append(i)\n",
    "print(len(val_40M),len(val_100M),len(val_200M),len(val_400M))\n",
    "print(len(val_M))"
   ]
  },
  {
   "cell_type": "markdown",
   "id": "ca292376",
   "metadata": {},
   "source": [
    "val_B=[]\n",
    "val_40B=[]\n",
    "val_100B=[]\n",
    "val_200B=[]\n",
    "val_400B=[]\n",
    "for i in val_files:\n",
    "    parts=i.split('_')\n",
    "    parts1=i.split('-')\n",
    "    if (parts[-2])== \"B\":\n",
    "        val_B.append(i)\n",
    "        \n",
    "        if (parts1[-2])== \"40\":\n",
    "            val_40B.append(i)\n",
    "        elif (parts1[-2])== \"100\":\n",
    "            val_100B.append(i)\n",
    "        elif (parts1[-2])== \"200\":\n",
    "            val_200B.append(i)\n",
    "        elif (parts1[-2])== \"400\":\n",
    "            val_400B.append(i)\n",
    "print(len(val_40B),len(val_100B),len(val_200B),len(val_400B))\n",
    "print(len(val_B))"
   ]
  },
  {
   "cell_type": "markdown",
   "id": "859497ce",
   "metadata": {},
   "source": [
    "len(val_M)+len(val_B)"
   ]
  },
  {
   "cell_type": "code",
   "execution_count": 9,
   "id": "147f12b3",
   "metadata": {},
   "outputs": [],
   "source": [
    "import albumentations\n",
    "import albumentations.pytorch \n",
    "class My_data(Dataset):\n",
    "    def __init__(self, data, transforms=None):\n",
    "        self.image_list = data\n",
    "        self.data_len = len(self.image_list)\n",
    "        self.transforms = transforms\n",
    "        self.eicls = [\"A\", \"F\", \"TA\", \"PT\", \"DC\", \"LC\", \"MC\", \"PC\"]\n",
    "        \n",
    "    def __getitem__(self, index):\n",
    "        current_image_path = self.image_list[index]\n",
    "        im_as_im = cv2.imread(current_image_path)\n",
    "        im_as_im = cv2.cvtColor(im_as_im, cv2.COLOR_BGR2RGB)\n",
    "\n",
    "        # Perform label encoding for multi-label classification\n",
    "        parts = current_image_path.split('_')[-1].split('-')\n",
    "        if parts[2]==\"13412\":\n",
    "            labels =[0,0,0,0,1,1,0,0]\n",
    "        else:\n",
    "            labels = [int(label == parts[0]) for label in self.eicls]       \n",
    "        labels = torch.tensor(labels)\n",
    "\n",
    "        if self.transforms is not None:\n",
    "            augmented = self.transforms(image=im_as_im)\n",
    "            im_as_im = augmented['image']\n",
    "\n",
    "        return (im_as_im, labels)\n",
    "\n",
    "    def __len__(self):\n",
    "        return self.data_len             \n",
    " \n",
    "   "
   ]
  },
  {
   "cell_type": "code",
   "execution_count": 10,
   "id": "e9ae8a2d",
   "metadata": {},
   "outputs": [],
   "source": [
    "transform = {\n",
    "    'train': albumentations.Compose([\n",
    "    albumentations.Resize(256, 256),     \n",
    "    albumentations.OneOf([\n",
    "                          albumentations.HorizontalFlip(),\n",
    "                          albumentations.RandomRotate90(),\n",
    "                          albumentations.VerticalFlip(),\n",
    "                          albumentations.GaussianBlur(),\n",
    "                          albumentations.NoOp()\n",
    "    ], p=0.2),\n",
    "    albumentations.Normalize(mean=(0.787, 0.625, 0.765),\n",
    "                       std=(0.105, 0.138, 0.089), p=1),\n",
    "    albumentations.pytorch.transforms.ToTensorV2()]),\n",
    "    \n",
    "    'valid': albumentations.Compose([\n",
    "    albumentations.Resize(256, 256),     \n",
    "    albumentations.Normalize(mean=(0.786, 0.623, 0.766),\n",
    "                       std=(0.105, 0.138, 0.089), p=1),\n",
    "    albumentations.pytorch.transforms.ToTensorV2()]),}\n",
    "    "
   ]
  },
  {
   "cell_type": "markdown",
   "id": "ecabceda",
   "metadata": {},
   "source": [
    "valid=My_data(val,transforms=transform['valid'])\n",
    "valid_dataloader=  torch.utils.data.DataLoader(dataset=valid,batch_size=1,shuffle=False,num_workers=4,\n",
    "                                               pin_memory=True )  "
   ]
  },
  {
   "cell_type": "code",
   "execution_count": 11,
   "id": "5bcb9187",
   "metadata": {},
   "outputs": [],
   "source": [
    "valid = My_data(val_M,transforms=transform['valid'])\n",
    "valid_M=  torch.utils.data.DataLoader(dataset=valid,batch_size=1,shuffle=False,num_workers=4,\n",
    "                                               pin_memory=True )  "
   ]
  },
  {
   "cell_type": "code",
   "execution_count": 12,
   "id": "aebb14c3",
   "metadata": {},
   "outputs": [],
   "source": [
    "vali_40M=My_data(val_40M,transforms=transform['valid'])\n",
    "valid_40M=  torch.utils.data.DataLoader(dataset=vali_40M,batch_size=1,shuffle=False,num_workers=4,\n",
    "                                               pin_memory=True )  "
   ]
  },
  {
   "cell_type": "code",
   "execution_count": 13,
   "id": "9e7668bb",
   "metadata": {},
   "outputs": [],
   "source": [
    "vali_100M=My_data(val_100M,transforms=transform['valid'])\n",
    "valid_100M=  torch.utils.data.DataLoader(dataset=vali_100M,batch_size=1,shuffle=False,num_workers=4,\n",
    "                                               pin_memory=True )  "
   ]
  },
  {
   "cell_type": "code",
   "execution_count": 14,
   "id": "f0e97bf0",
   "metadata": {},
   "outputs": [],
   "source": [
    "vali_200M = My_data(val_200M,transforms=transform['valid'])\n",
    "valid_200M=  torch.utils.data.DataLoader(dataset=vali_200M,batch_size=1,shuffle=False,num_workers=4,\n",
    "                                               pin_memory=True )  "
   ]
  },
  {
   "cell_type": "code",
   "execution_count": 15,
   "id": "44d9734d",
   "metadata": {},
   "outputs": [],
   "source": [
    "vali_400M = My_data(val_400M,transforms=transform['valid'])\n",
    "valid_400M=  torch.utils.data.DataLoader(dataset=vali_400M,batch_size=1,shuffle=False,num_workers=4,\n",
    "                                               pin_memory=True )  "
   ]
  },
  {
   "cell_type": "code",
   "execution_count": 16,
   "id": "2759ce81",
   "metadata": {},
   "outputs": [
    {
     "name": "stdout",
     "output_type": "stream",
     "text": [
      "tensor([2.1557, 0.9852, 1.7349, 2.1382, 0.2863, 1.6080, 1.2578, 1.7620])\n"
     ]
    }
   ],
   "source": [
    "import torch\n",
    "class_samples = [367, 803, 456, 370, 2763, 492, 629, 449]  # Number of samples in each class\n",
    "total_samples = sum(class_samples)\n",
    "samples=total_samples/len(class_samples)\n",
    "class_weights = [samples / (s + 1e-8) for s in class_samples]\n",
    "class_weights = torch.tensor(class_weights)\n",
    "print(class_weights)"
   ]
  },
  {
   "cell_type": "code",
   "execution_count": 17,
   "id": "6325ae45",
   "metadata": {},
   "outputs": [],
   "source": [
    "import torch\n",
    "import torch.nn as nn\n",
    "\n",
    "class FocalLoss(nn.Module):\n",
    "    def __init__(self, gamma=2.0, class_weights=None):\n",
    "        super(FocalLoss, self).__init__()\n",
    "        self.gamma = gamma\n",
    "        self.class_weights = class_weights\n",
    "\n",
    "    def forward(self, logits, labels):\n",
    "        probs = torch.sigmoid(logits)\n",
    "        ce_loss = nn.BCELoss()(probs, labels)\n",
    "        weight = (1 - probs).pow(self.gamma)\n",
    "        loss = ce_loss  # Initialize loss with cross-entropy loss\n",
    "        if self.class_weights is not None:\n",
    "            weight = weight * self.class_weights\n",
    "            loss = loss * weight\n",
    "        return loss"
   ]
  },
  {
   "cell_type": "code",
   "execution_count": 18,
   "id": "8907f556",
   "metadata": {},
   "outputs": [
    {
     "name": "stderr",
     "output_type": "stream",
     "text": [
      "/home/kb/anaconda3/envs/pytorch-gpu/lib/python3.10/site-packages/torch/functional.py:504: UserWarning: torch.meshgrid: in an upcoming release, it will be required to pass the indexing argument. (Triggered internally at ../aten/src/ATen/native/TensorShape.cpp:3483.)\n",
      "  return _VF.meshgrid(tensors, **kwargs)  # type: ignore[attr-defined]\n"
     ]
    }
   ],
   "source": [
    "import torch\n",
    "import torch.nn as nn\n",
    "import torch.optim as optim\n",
    "import torchvision.transforms as transforms\n",
    "import torchvision.datasets as datasets\n",
    "from torch.utils.data import DataLoader\n",
    "import timm\n",
    "from timm.models import create_model\n",
    "from timm.data import create_transform\n",
    "from sklearn.metrics import accuracy_score\n",
    "\n",
    "# Define device\n",
    "# Define Swin Transformer v2 model\n",
    "\"\"\"model_name = 'swin_base_patch4_window7_224'\n",
    "num_classes = 8\n",
    "model = create_model(\n",
    "    model_name=model_name,\n",
    "    pretrained=True,\n",
    "    num_classes=num_classes,\n",
    "    drop_rate=0.5,\n",
    "    drop_path_rate=0.2,\n",
    "    checkpoint_path=None\n",
    ")\"\"\"\n",
    "model = timm.create_model(\n",
    "    'swinv2_tiny_window8_256.ms_in1k',\n",
    "    pretrained=False,\n",
    "    features_only=False,\n",
    "    num_classes = 8,\n",
    "    drop_path_rate=0.2\n",
    ")\n",
    "class_weights=class_weights.to(device)\n",
    "criterion = FocalLoss(class_weights)\n",
    "optimizer = optim.AdamW(\n",
    "    filter(lambda p: p.requires_grad, model.parameters()), \n",
    "    lr=1e-4)\n",
    "scheduler = torch.optim.lr_scheduler.StepLR(optimizer, step_size=15, gamma=0.5)\n",
    "checkpoint1 = torch.load('ac98data/eft_tiny.pth')\n",
    "model.load_state_dict(checkpoint1['model_state_dict'])\n",
    "model = model.to(device)"
   ]
  },
  {
   "cell_type": "code",
   "execution_count": 19,
   "id": "3eb500b5",
   "metadata": {},
   "outputs": [],
   "source": [
    "#define the function that take model and etc.. and compute val loss and val_accuracy and ypred and y true\n",
    "def validate(model, dataloader, optimizer, criterion):\n",
    "    #print('Validating')\n",
    "    model.eval()\n",
    "    val_running_loss = 0.0\n",
    "    val_running_correct = 0\n",
    "    y_pred = []\n",
    "    y_true = []\n",
    "    with torch.no_grad():\n",
    "        for i, (inputs, labels) in enumerate(dataloader):\n",
    "            inputs = inputs.to(device)\n",
    "            labels = labels.float()\n",
    "            labels = labels.to(device)\n",
    "            outputs = model(inputs)\n",
    "            thresholds = [0.5, 0.5, 0.5,0.5,0.5,0.5,0.5,0.5]\n",
    "            loss = criterion(outputs, labels)\n",
    "            \n",
    "            val_running_loss += loss.item()*inputs.size(0)\n",
    "            probs = torch.sigmoid(outputs)\n",
    "            preds = torch.zeros_like(probs)\n",
    "           \n",
    "            y_pred.extend(preds)\n",
    "            y_true.extend(labels)\n",
    "            \n",
    "            #print(preds,labels)\n",
    "            for i, threshold in enumerate(thresholds):\n",
    "                preds[:, i] = (probs[:, i] >= threshold).float()\n",
    "            val_running_correct += (preds == labels).all(dim=1).float().sum()\n",
    "            \n",
    "        \n",
    "    val_loss = val_running_loss/len(dataloader.dataset)\n",
    "    val_accuracy = 100. * val_running_correct/len(dataloader.dataset)        \n",
    "    return val_loss, val_accuracy,y_pred,y_true"
   ]
  },
  {
   "cell_type": "code",
   "execution_count": 20,
   "id": "b91677a4",
   "metadata": {},
   "outputs": [
    {
     "name": "stdout",
     "output_type": "stream",
     "text": [
      "accuracy = 0.9794967381174278 recall = 0.9808394160583942 F1-measure = 0.9817571625082255 precision = 0.9828054499317865\n"
     ]
    }
   ],
   "source": [
    "#Four MI\n",
    "from sklearn.metrics import confusion_matrix,recall_score,f1_score,precision_score,matthews_corrcoef,accuracy_score\n",
    "import seaborn as sn\n",
    "import pandas as pd\n",
    "import numpy as np\n",
    "val_loss, val_accuracy,y_pred,y_true = validate(model,valid_M, optimizer, criterion)\n",
    "#converting cuda list to cpu list and subsequently converting numpy\n",
    "#to work with sklearn.matrics\n",
    "y_pred = [tensor.cpu().numpy() for tensor in y_pred]\n",
    "y_true=  [tensor.cpu().numpy() for tensor in y_true]\n",
    "y_predM= [arr[-4:] for arr in y_pred]\n",
    "y_trueM= [arr[-4:] for arr in y_true]\n",
    "accuracy =accuracy_score (y_trueM, y_predM)       \n",
    "recall=recall_score(y_trueM, y_predM, average='weighted')\n",
    "f1=f1_score(y_trueM, y_predM, average='weighted')\n",
    "precision=precision_score(y_trueM, y_predM, labels=None, pos_label=1, average='weighted')\n",
    "#mcc=matthews_corrcoef(y_true1, y_pred1, sample_weight=None)  \n",
    "print(\"accuracy =\",accuracy ,\"recall =\",recall,\"F1-measure =\",f1,\"precision =\" ,precision)"
   ]
  },
  {
   "cell_type": "code",
   "execution_count": 21,
   "id": "0cc6d03b",
   "metadata": {},
   "outputs": [
    {
     "name": "stdout",
     "output_type": "stream",
     "text": [
      "              precision    recall  f1-score   support\n",
      "\n",
      "           0      0.994     0.984     0.989       688\n",
      "           1      0.947     0.940     0.944       134\n",
      "           2      0.959     0.994     0.976       163\n",
      "           3      0.991     0.991     0.991       111\n",
      "\n",
      "   micro avg      0.983     0.981     0.982      1096\n",
      "   macro avg      0.973     0.977     0.975      1096\n",
      "weighted avg      0.983     0.981     0.982      1096\n",
      " samples avg      0.981     0.981     0.981      1096\n",
      "\n"
     ]
    },
    {
     "name": "stderr",
     "output_type": "stream",
     "text": [
      "/home/kb/anaconda3/envs/pytorch-gpu/lib/python3.10/site-packages/sklearn/metrics/_classification.py:1344: UndefinedMetricWarning: Precision and F-score are ill-defined and being set to 0.0 in samples with no predicted labels. Use `zero_division` parameter to control this behavior.\n",
      "  _warn_prf(average, modifier, msg_start, len(result))\n"
     ]
    }
   ],
   "source": [
    "from sklearn.metrics import classification_report\n",
    "print(classification_report(y_trueM, y_predM, digits=3))"
   ]
  },
  {
   "cell_type": "code",
   "execution_count": 22,
   "id": "1a8735c3",
   "metadata": {},
   "outputs": [
    {
     "data": {
      "image/png": "[encoded data removed]",
      "text/plain": [
       "<Figure size 1000x500 with 4 Axes>"
      ]
     },
     "metadata": {},
     "output_type": "display_data"
    }
   ],
   "source": [
    "import numpy as np\n",
    "import matplotlib.pyplot as plt\n",
    "from sklearn.metrics import multilabel_confusion_matrix\n",
    "\n",
    "# Create the confusion matrices\n",
    "confusion_mat = multilabel_confusion_matrix(y_trueM, y_predM)\n",
    "\n",
    "# Create a 2x4 grid for subplots\n",
    "fig, axes = plt.subplots(1, 4, figsize=(10, 5))\n",
    "\n",
    "# Class names\n",
    "class_names = [\"Ductal Carcinoma\", \"Lobular_Carcinoma\", \"Mucinous Carcinoma\", \"Papillary Carcinoma\"]\n",
    "\n",
    "# Iterate over each confusion matrix and plot in the corresponding subplot\n",
    "for i, ax in enumerate(axes.flat):\n",
    "    # Check if there are more confusion matrices than the grid size\n",
    "    if i < len(confusion_mat):\n",
    "        im = ax.imshow(confusion_mat[i], interpolation='nearest', cmap=plt.cm.GnBu)\n",
    "        ax.set_title(f\"{class_names[i]}\")\n",
    "        ax.set_xlabel('Predicted Label')\n",
    "        ax.set_ylabel('True Label')\n",
    "        ax.set_xticks([0, 1])\n",
    "        ax.set_yticks([0, 1])\n",
    "        ax.set_xticklabels(['False', 'True'])\n",
    "        ax.set_yticklabels(['False', 'True'],rotation=90)\n",
    "\n",
    "        # Add count values in each cell\n",
    "        thresh = confusion_mat[i].max() / 2.\n",
    "        for j in range(confusion_mat[i].shape[0]):\n",
    "            for k in range(confusion_mat[i].shape[1]):\n",
    "                ax.text(k, j, format(confusion_mat[i, j, k], 'd'),\n",
    "                         ha=\"center\", va=\"center\",\n",
    "                         color=\"white\" if confusion_mat[i, j, k] > thresh else \"black\")\n",
    "    else:\n",
    "        # If there are fewer confusion matrices than the grid size, remove the empty subplot\n",
    "        fig.delaxes(ax)\n",
    "\n",
    "plt.tight_layout()\n",
    "plt.savefig('integrated_data/figs/IntMalcon.eps', format='eps')\n",
    "plt.show()"
   ]
  },
  {
   "cell_type": "code",
   "execution_count": 23,
   "id": "60a5df6a",
   "metadata": {},
   "outputs": [
    {
     "data": {
      "image/png": "[encoded data removed]",
      "text/plain": [
       "<Figure size 1600x400 with 4 Axes>"
      ]
     },
     "metadata": {},
     "output_type": "display_data"
    }
   ],
   "source": [
    "import numpy as np\n",
    "import matplotlib.pyplot as plt\n",
    "from sklearn.metrics import precision_recall_curve,auc\n",
    "from itertools import cycle\n",
    "\n",
    "# Assuming you have the true labels and predicted probabilities as lists of lists\n",
    "# Convert lists to NumPy arrays\n",
    "\n",
    "class_names = [\"Ductal Carcinoma\", \"Lobular_Carcinoma\", \"Mucinous Carcinoma\", \"Papillary Carcinoma\"]\n",
    "# Calculate precision and recall for each label\n",
    "precision = dict()\n",
    "recall = dict()\n",
    "average_precision = dict()\n",
    "for i in range(4):\n",
    "    precision[i], recall[i], _ = precision_recall_curve([label[i] for label in y_trueM], [label[i] for label in y_predM])\n",
    "    average_precision[i] = auc(recall[i], precision[i])\n",
    "# Plot precision-recall curves in a 2x4 grid\n",
    "fig, axes = plt.subplots(1, 4, figsize=(16, 4))\n",
    "colors = cycle(['teal', 'red', 'purple', 'green'])\n",
    "\n",
    "for i, ax in enumerate(axes.flat):\n",
    "    if i < 8:\n",
    "        ax.plot(recall[i], precision[i], color=next(colors), lw=2)\n",
    "        ax.set_xlabel(\"Recall\")\n",
    "        ax.set_ylabel(\"Precision\")       \n",
    "        ax.set_title(\"{} (AP: {:.2f})\".format(class_names[i], average_precision[i]))\n",
    "        ax.grid(True)  # Add gridlines to the subplot\n",
    "plt.tight_layout()\n",
    "plt.savefig('integrated_data/figs/pr_M.eps', format='eps')\n",
    "plt.show()"
   ]
  },
  {
   "cell_type": "code",
   "execution_count": 24,
   "id": "e6d4c70a",
   "metadata": {},
   "outputs": [
    {
     "name": "stdout",
     "output_type": "stream",
     "text": [
      "accuracy = 0.9919354838709677 recall = 0.9921875 F1-measure = 0.994080630931848 precision = 0.996120143581081\n"
     ]
    }
   ],
   "source": [
    "#Four MD 40x for malignant\n",
    "from sklearn.metrics import confusion_matrix,recall_score,f1_score,precision_score,matthews_corrcoef,accuracy_score\n",
    "import seaborn as sn\n",
    "import pandas as pd\n",
    "import numpy as np\n",
    "val_loss, val_accuracy,y_pred,y_true = validate(model,valid_40M, optimizer, criterion)\n",
    "#converting cuda list to cpu list and subsequently converting numpy\n",
    "#to work with sklearn.matrics\n",
    "y_pred = [tensor.cpu().numpy() for tensor in y_pred]\n",
    "y_true=  [tensor.cpu().numpy() for tensor in y_true]\n",
    "y_predM40= [arr[-4:] for arr in y_pred]\n",
    "y_trueM40= [arr[-4:] for arr in y_true]\n",
    "accuracy =accuracy_score (y_trueM40, y_predM40)       \n",
    "recall=recall_score(y_trueM40, y_predM40, average='weighted')\n",
    "f1=f1_score(y_trueM40, y_predM40, average='weighted')\n",
    "precision=precision_score(y_trueM40, y_predM40, labels=None, pos_label=1, average='weighted')\n",
    "#mcc=matthews_corrcoef(y_true1, y_pred1, sample_weight=None)  \n",
    "print(\"accuracy =\",accuracy ,\"recall =\",recall,\"F1-measure =\",f1,\"precision =\" ,precision)"
   ]
  },
  {
   "cell_type": "code",
   "execution_count": 25,
   "id": "0be0c1a9",
   "metadata": {},
   "outputs": [
    {
     "name": "stdout",
     "output_type": "stream",
     "text": [
      "              precision    recall  f1-score   support\n",
      "\n",
      "           0      0.993     1.000     0.997       147\n",
      "           1      1.000     0.973     0.986        37\n",
      "           2      1.000     1.000     1.000        47\n",
      "           3      1.000     0.960     0.980        25\n",
      "\n",
      "   micro avg      0.996     0.992     0.994       256\n",
      "   macro avg      0.998     0.983     0.991       256\n",
      "weighted avg      0.996     0.992     0.994       256\n",
      " samples avg      0.996     0.994     0.995       256\n",
      "\n"
     ]
    }
   ],
   "source": [
    "from sklearn.metrics import classification_report\n",
    "print(classification_report(y_trueM40, y_predM40, digits=3))"
   ]
  },
  {
   "cell_type": "code",
   "execution_count": 26,
   "id": "312423c5",
   "metadata": {},
   "outputs": [
    {
     "name": "stdout",
     "output_type": "stream",
     "text": [
      "accuracy = 0.9838187702265372 recall = 0.9840764331210191 F1-measure = 0.985796009677349 precision = 0.9877388535031847\n"
     ]
    }
   ],
   "source": [
    "#Four MD 100x for malignant\n",
    "from sklearn.metrics import confusion_matrix,recall_score,f1_score,precision_score,matthews_corrcoef,accuracy_score\n",
    "import seaborn as sn\n",
    "import pandas as pd\n",
    "import numpy as np\n",
    "val_loss, val_accuracy,y_pred,y_true = validate(model,valid_100M, optimizer, criterion)\n",
    "#converting cuda list to cpu list and subsequently converting numpy\n",
    "#to work with sklearn.matrics\n",
    "y_pred = [tensor.cpu().numpy() for tensor in y_pred]\n",
    "y_true=  [tensor.cpu().numpy() for tensor in y_true]\n",
    "y_predM100= [arr[-4:] for arr in y_pred]\n",
    "y_trueM100= [arr[-4:] for arr in y_true]\n",
    "accuracy =accuracy_score (y_trueM100, y_predM100)       \n",
    "recall=recall_score(y_trueM100, y_predM100, average='weighted')\n",
    "f1=f1_score(y_trueM100, y_predM100, average='weighted')\n",
    "precision=precision_score(y_trueM100, y_predM100, labels=None, pos_label=1, average='weighted')\n",
    "#mcc=matthews_corrcoef(y_true1, y_pred1, sample_weight=None)  \n",
    "print(\"accuracy =\",accuracy ,\"recall =\",recall,\"F1-measure =\",f1,\"precision =\" ,precision)"
   ]
  },
  {
   "cell_type": "code",
   "execution_count": 27,
   "id": "c2146e3f",
   "metadata": {},
   "outputs": [
    {
     "name": "stdout",
     "output_type": "stream",
     "text": [
      "              precision    recall  f1-score   support\n",
      "\n",
      "           0      1.000     0.985     0.992       200\n",
      "           1      0.925     0.974     0.949        38\n",
      "           2      0.979     0.979     0.979        47\n",
      "           3      1.000     1.000     1.000        29\n",
      "\n",
      "   micro avg      0.987     0.984     0.986       314\n",
      "   macro avg      0.976     0.984     0.980       314\n",
      "weighted avg      0.988     0.984     0.986       314\n",
      " samples avg      0.984     0.984     0.984       314\n",
      "\n"
     ]
    },
    {
     "name": "stderr",
     "output_type": "stream",
     "text": [
      "/home/kb/anaconda3/envs/pytorch-gpu/lib/python3.10/site-packages/sklearn/metrics/_classification.py:1344: UndefinedMetricWarning: Precision and F-score are ill-defined and being set to 0.0 in samples with no predicted labels. Use `zero_division` parameter to control this behavior.\n",
      "  _warn_prf(average, modifier, msg_start, len(result))\n"
     ]
    }
   ],
   "source": [
    "from sklearn.metrics import classification_report\n",
    "print(classification_report(y_trueM100, y_predM100, digits=3))"
   ]
  },
  {
   "cell_type": "code",
   "execution_count": 28,
   "id": "180e62f5",
   "metadata": {},
   "outputs": [
    {
     "name": "stdout",
     "output_type": "stream",
     "text": [
      "accuracy = 0.9744525547445255 recall = 0.9750889679715302 F1-measure = 0.9751997398988392 precision = 0.9758982246617207\n"
     ]
    }
   ],
   "source": [
    "#Four MD 200x for malignant\n",
    "from sklearn.metrics import confusion_matrix,recall_score,f1_score,precision_score,matthews_corrcoef,accuracy_score\n",
    "import seaborn as sn\n",
    "import pandas as pd\n",
    "import numpy as np\n",
    "val_loss, val_accuracy,y_pred,y_true = validate(model,valid_200M, optimizer, criterion)\n",
    "#converting cuda list to cpu list and subsequently converting numpy\n",
    "#to work with sklearn.matrics\n",
    "y_pred = [tensor.cpu().numpy() for tensor in y_pred]\n",
    "y_true=  [tensor.cpu().numpy() for tensor in y_true]\n",
    "y_predM200= [arr[-4:] for arr in y_pred]\n",
    "y_trueM200= [arr[-4:] for arr in y_true]\n",
    "accuracy =accuracy_score (y_trueM200, y_predM200)       \n",
    "recall=recall_score(y_trueM200, y_predM200, average='weighted')\n",
    "f1=f1_score(y_trueM200, y_predM200, average='weighted')\n",
    "precision=precision_score(y_trueM200, y_predM200, labels=None, pos_label=1, average='weighted')\n",
    "#mcc=matthews_corrcoef(y_true1, y_pred1, sample_weight=None)  \n",
    "print(\"accuracy =\",accuracy ,\"recall =\",recall,\"F1-measure =\",f1,\"precision =\" ,precision)"
   ]
  },
  {
   "cell_type": "code",
   "execution_count": 29,
   "id": "dfcc84ca",
   "metadata": {},
   "outputs": [
    {
     "name": "stdout",
     "output_type": "stream",
     "text": [
      "              precision    recall  f1-score   support\n",
      "\n",
      "           0      0.994     0.972     0.983       181\n",
      "           1      0.941     0.941     0.941        34\n",
      "           2      0.929     1.000     0.963        39\n",
      "           3      0.964     1.000     0.982        27\n",
      "\n",
      "   micro avg      0.975     0.975     0.975       281\n",
      "   macro avg      0.957     0.978     0.967       281\n",
      "weighted avg      0.976     0.975     0.975       281\n",
      " samples avg      0.974     0.974     0.974       281\n",
      "\n"
     ]
    }
   ],
   "source": [
    "from sklearn.metrics import classification_report\n",
    "print(classification_report(y_trueM200, y_predM200, digits=3))"
   ]
  },
  {
   "cell_type": "code",
   "execution_count": 30,
   "id": "a20b54a6",
   "metadata": {},
   "outputs": [
    {
     "name": "stdout",
     "output_type": "stream",
     "text": [
      "accuracy = 0.9669421487603306 recall = 0.9714285714285714 F1-measure = 0.9711779248197264 precision = 0.971780553522028\n"
     ]
    }
   ],
   "source": [
    "#Four MD 400x for malignant\n",
    "from sklearn.metrics import confusion_matrix,recall_score,f1_score,precision_score,matthews_corrcoef,accuracy_score\n",
    "import seaborn as sn\n",
    "import pandas as pd\n",
    "import numpy as np\n",
    "val_loss, val_accuracy,y_pred,y_true = validate(model,valid_400M, optimizer, criterion)\n",
    "#converting cuda list to cpu list and subsequently converting numpy\n",
    "#to work with sklearn.matrics\n",
    "y_pred = [tensor.cpu().numpy() for tensor in y_pred]\n",
    "y_true=  [tensor.cpu().numpy() for tensor in y_true]\n",
    "y_predM400= [arr[-4:] for arr in y_pred]\n",
    "y_trueM400= [arr[-4:] for arr in y_true]\n",
    "accuracy =accuracy_score (y_trueM400, y_predM400)       \n",
    "recall=recall_score(y_trueM400, y_predM400, average='weighted')\n",
    "f1=f1_score(y_trueM400, y_predM400, average='weighted')\n",
    "precision=precision_score(y_trueM400, y_predM400, labels=None, pos_label=1, average='weighted')\n",
    "#mcc=matthews_corrcoef(y_true1, y_pred1, sample_weight=None)  \n",
    "print(\"accuracy =\",accuracy ,\"recall =\",recall,\"F1-measure =\",f1,\"precision =\" ,precision)"
   ]
  },
  {
   "cell_type": "code",
   "execution_count": 31,
   "id": "62f7ca2a",
   "metadata": {},
   "outputs": [
    {
     "name": "stdout",
     "output_type": "stream",
     "text": [
      "              precision    recall  f1-score   support\n",
      "\n",
      "           0      0.987     0.981     0.984       160\n",
      "           1      0.913     0.840     0.875        25\n",
      "           2      0.909     1.000     0.952        30\n",
      "           3      1.000     1.000     1.000        30\n",
      "\n",
      "   micro avg      0.971     0.971     0.971       245\n",
      "   macro avg      0.952     0.955     0.953       245\n",
      "weighted avg      0.972     0.971     0.971       245\n",
      " samples avg      0.969     0.971     0.970       245\n",
      "\n"
     ]
    },
    {
     "name": "stderr",
     "output_type": "stream",
     "text": [
      "/home/kb/anaconda3/envs/pytorch-gpu/lib/python3.10/site-packages/sklearn/metrics/_classification.py:1344: UndefinedMetricWarning: Precision and F-score are ill-defined and being set to 0.0 in samples with no predicted labels. Use `zero_division` parameter to control this behavior.\n",
      "  _warn_prf(average, modifier, msg_start, len(result))\n"
     ]
    }
   ],
   "source": [
    "from sklearn.metrics import classification_report\n",
    "print(classification_report(y_trueM400, y_predM400, digits=3))"
   ]
  },
  {
   "cell_type": "code",
   "execution_count": null,
   "id": "8110c678",
   "metadata": {},
   "outputs": [],
   "source": [
    "97.95 & 98.08 & 98.18 & 98.28"
   ]
  },
  {
   "cell_type": "code",
   "execution_count": null,
   "id": "04495fe6",
   "metadata": {},
   "outputs": [],
   "source": [
    "99.19 & 99.22 & 99.41 & 99.61\n",
    "98.38 & 98.41 &98.58 & 98.77\n",
    "97.45 & 97.51  & 97.52 & 97.59\n",
    "9669421487603306 recall = 0.9714285714285714 F1-measure = 0.9711779248197264 precision = 0.971780553522028"
   ]
  }
 ],
 "metadata": {
  "kernelspec": {
   "display_name": "Python 3 (ipykernel)",
   "language": "python",
   "name": "python3"
  },
  "language_info": {
   "codemirror_mode": {
    "name": "ipython",
    "version": 3
   },
   "file_extension": ".py",
   "mimetype": "text/x-python",
   "name": "python",
   "nbconvert_exporter": "python",
   "pygments_lexer": "ipython3",
   "version": "3.10.9"
  }
 },
 "nbformat": 4,
 "nbformat_minor": 5
}
